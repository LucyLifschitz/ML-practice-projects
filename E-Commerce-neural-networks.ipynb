{
 "cells": [
  {
   "cell_type": "markdown",
   "id": "4bc210cf",
   "metadata": {},
   "source": [
    "# E-Commerce project with neural networks model"
   ]
  },
  {
   "cell_type": "code",
   "execution_count": 21,
   "id": "97b9b0cc",
   "metadata": {},
   "outputs": [],
   "source": [
    "import numpy as np\n",
    "import pandas as pd\n",
    "import matplotlib.pyplot as plt"
   ]
  },
  {
   "cell_type": "code",
   "execution_count": 22,
   "id": "22e1877f",
   "metadata": {},
   "outputs": [
    {
     "data": {
      "text/html": [
       "<div>\n",
       "<style scoped>\n",
       "    .dataframe tbody tr th:only-of-type {\n",
       "        vertical-align: middle;\n",
       "    }\n",
       "\n",
       "    .dataframe tbody tr th {\n",
       "        vertical-align: top;\n",
       "    }\n",
       "\n",
       "    .dataframe thead th {\n",
       "        text-align: right;\n",
       "    }\n",
       "</style>\n",
       "<table border=\"1\" class=\"dataframe\">\n",
       "  <thead>\n",
       "    <tr style=\"text-align: right;\">\n",
       "      <th></th>\n",
       "      <th>is_mobile</th>\n",
       "      <th>n_products_viewed</th>\n",
       "      <th>visit_duration</th>\n",
       "      <th>is_returning_visitor</th>\n",
       "      <th>time_of_day</th>\n",
       "      <th>user_action</th>\n",
       "    </tr>\n",
       "  </thead>\n",
       "  <tbody>\n",
       "    <tr>\n",
       "      <th>0</th>\n",
       "      <td>1</td>\n",
       "      <td>0</td>\n",
       "      <td>0.657510</td>\n",
       "      <td>0</td>\n",
       "      <td>3</td>\n",
       "      <td>0</td>\n",
       "    </tr>\n",
       "    <tr>\n",
       "      <th>1</th>\n",
       "      <td>1</td>\n",
       "      <td>1</td>\n",
       "      <td>0.568571</td>\n",
       "      <td>0</td>\n",
       "      <td>2</td>\n",
       "      <td>1</td>\n",
       "    </tr>\n",
       "    <tr>\n",
       "      <th>2</th>\n",
       "      <td>1</td>\n",
       "      <td>0</td>\n",
       "      <td>0.042246</td>\n",
       "      <td>1</td>\n",
       "      <td>1</td>\n",
       "      <td>0</td>\n",
       "    </tr>\n",
       "    <tr>\n",
       "      <th>3</th>\n",
       "      <td>1</td>\n",
       "      <td>1</td>\n",
       "      <td>1.659793</td>\n",
       "      <td>1</td>\n",
       "      <td>1</td>\n",
       "      <td>2</td>\n",
       "    </tr>\n",
       "    <tr>\n",
       "      <th>4</th>\n",
       "      <td>0</td>\n",
       "      <td>1</td>\n",
       "      <td>2.014745</td>\n",
       "      <td>1</td>\n",
       "      <td>1</td>\n",
       "      <td>2</td>\n",
       "    </tr>\n",
       "  </tbody>\n",
       "</table>\n",
       "</div>"
      ],
      "text/plain": [
       "   is_mobile  n_products_viewed  visit_duration  is_returning_visitor  \\\n",
       "0          1                  0        0.657510                     0   \n",
       "1          1                  1        0.568571                     0   \n",
       "2          1                  0        0.042246                     1   \n",
       "3          1                  1        1.659793                     1   \n",
       "4          0                  1        2.014745                     1   \n",
       "\n",
       "   time_of_day  user_action  \n",
       "0            3            0  \n",
       "1            2            1  \n",
       "2            1            0  \n",
       "3            1            2  \n",
       "4            1            2  "
      ]
     },
     "execution_count": 22,
     "metadata": {},
     "output_type": "execute_result"
    }
   ],
   "source": [
    "# get data\n",
    "\n",
    "df = pd.read_csv(\"ecommerce_data.csv\")\n",
    "df.head()"
   ]
  },
  {
   "cell_type": "markdown",
   "id": "fb6b6e9f",
   "metadata": {},
   "source": [
    "### preprocessing data"
   ]
  },
  {
   "cell_type": "code",
   "execution_count": 23,
   "id": "38c145ca",
   "metadata": {},
   "outputs": [],
   "source": [
    "def get_data():\n",
    "    df = pd.read_csv(\"ecommerce_data.csv\")\n",
    "    # easier to work with numpy arrays\n",
    "    data = df.to_numpy()\n",
    "    # shuffle the data\n",
    "    np.random.shuffle(data)\n",
    "    # split features and labels\n",
    "    X = data[:, :-1]\n",
    "    Y = data[:, -1].astype(np.int32)\n",
    "    \n",
    "    # one-hot encode time of day column\n",
    "    N, D = X.shape\n",
    "    X2 = np.zeros((N, D+3))\n",
    "    # non-categorical columns\n",
    "    X2[:, :(D-1)] = X[:, :(D-1)]\n",
    "    # categorical column\n",
    "    for n in range(N):\n",
    "        t = int(X[n, D-1])\n",
    "        X2[n, t+D-1] = 1\n",
    "        \n",
    "    # assign X2 back to X\n",
    "    X = X2\n",
    "    \n",
    "    # split train and test\n",
    "    Xtrain = X[:-100]\n",
    "    Ytrain = Y[:-100]\n",
    "    Xtest = X[-100:]\n",
    "    Ytest = Y[-100:]\n",
    "    \n",
    "    # normalize columns 1 and 2\n",
    "    for i in (1,2):\n",
    "        m = Xtrain[:, i].mean()\n",
    "        s = Xtrain[:, i].std()\n",
    "        Xtrain[:, i] = (Xtrain[:, i] - m)/s\n",
    "        Xtest[:, i] = (Xtest[:, i] - m)/s\n",
    "    return Xtrain, Ytrain, Xtest, Ytest\n",
    "    \n",
    "    "
   ]
  },
  {
   "cell_type": "code",
   "execution_count": 24,
   "id": "38a06446",
   "metadata": {},
   "outputs": [],
   "source": [
    "Xtrain, Ytrain, Xtest, Ytest = get_data()"
   ]
  },
  {
   "cell_type": "code",
   "execution_count": 25,
   "id": "1a1225bb",
   "metadata": {},
   "outputs": [
    {
     "data": {
      "text/plain": [
       "((400, 8), (400,), (100, 8), (100,))"
      ]
     },
     "execution_count": 25,
     "metadata": {},
     "output_type": "execute_result"
    }
   ],
   "source": [
    "Xtrain.shape, Ytrain.shape, Xtest.shape, Ytest.shape"
   ]
  },
  {
   "cell_type": "markdown",
   "id": "85a09036",
   "metadata": {},
   "source": [
    "### random predictions with neural networks"
   ]
  },
  {
   "cell_type": "code",
   "execution_count": 11,
   "id": "37cc4036",
   "metadata": {},
   "outputs": [],
   "source": [
    "X, Y, _, _ = get_data()"
   ]
  },
  {
   "cell_type": "code",
   "execution_count": 12,
   "id": "67cc8e9a",
   "metadata": {},
   "outputs": [],
   "source": [
    "# randomly initialize weights\n",
    "# size of hidden layer is M\n",
    "M = 5\n",
    "D = X.shape[1]\n",
    "K = len(set(Y))\n",
    "\n",
    "W1 = np.random.randn(D, M)\n",
    "b1 = np.zeros(M)\n",
    "W2 = np.random.randn(M, K)\n",
    "b2 = np.zeros(K)\n",
    "\n"
   ]
  },
  {
   "cell_type": "code",
   "execution_count": 13,
   "id": "227be2fd",
   "metadata": {},
   "outputs": [],
   "source": [
    "def softmax(a):\n",
    "    expA = np.exp(a)\n",
    "    return expA / expA.sum(axis=1, keepdims=True)"
   ]
  },
  {
   "cell_type": "code",
   "execution_count": 14,
   "id": "db5efa1a",
   "metadata": {},
   "outputs": [],
   "source": [
    "def forward(X, W1, b1, W2, b2):\n",
    "    Z = np.tanh(X.dot(W1) + b1)\n",
    "    return softmax(Z.dot(W2) + b2)"
   ]
  },
  {
   "cell_type": "code",
   "execution_count": 15,
   "id": "60db4c8b",
   "metadata": {},
   "outputs": [],
   "source": [
    "P_Y_given_X = forward(X, W1, b1, W2, b2)"
   ]
  },
  {
   "cell_type": "code",
   "execution_count": 16,
   "id": "17c66a57",
   "metadata": {},
   "outputs": [
    {
     "data": {
      "text/plain": [
       "(400, 4)"
      ]
     },
     "execution_count": 16,
     "metadata": {},
     "output_type": "execute_result"
    }
   ],
   "source": [
    "P_Y_given_X.shape"
   ]
  },
  {
   "cell_type": "code",
   "execution_count": 17,
   "id": "61a3cda1",
   "metadata": {},
   "outputs": [],
   "source": [
    "predictions = np.argmax(P_Y_given_X, axis=1)"
   ]
  },
  {
   "cell_type": "code",
   "execution_count": 18,
   "id": "42df3e0a",
   "metadata": {},
   "outputs": [
    {
     "data": {
      "text/plain": [
       "array([1, 0, 0, 3, 3, 2, 0, 0, 0, 3])"
      ]
     },
     "execution_count": 18,
     "metadata": {},
     "output_type": "execute_result"
    }
   ],
   "source": [
    "predictions[:10]"
   ]
  },
  {
   "cell_type": "code",
   "execution_count": 19,
   "id": "c8128fd3",
   "metadata": {},
   "outputs": [],
   "source": [
    "def classification_rate(Y, P):\n",
    "    return np.mean(Y == P)"
   ]
  },
  {
   "cell_type": "code",
   "execution_count": 20,
   "id": "7496640d",
   "metadata": {},
   "outputs": [
    {
     "data": {
      "text/plain": [
       "0.3125"
      ]
     },
     "execution_count": 20,
     "metadata": {},
     "output_type": "execute_result"
    }
   ],
   "source": [
    "classification_rate(Y, predictions)"
   ]
  },
  {
   "cell_type": "markdown",
   "id": "ff2a3ebb",
   "metadata": {},
   "source": [
    "### training for logistic model with softmax classification"
   ]
  },
  {
   "cell_type": "code",
   "execution_count": 30,
   "id": "e85934ff",
   "metadata": {},
   "outputs": [],
   "source": [
    "# this function will one-hot encode the targets\n",
    "def y2indicator(y, K):\n",
    "    N = len(y)\n",
    "    ind = np.zeros((N, K))\n",
    "    for i in range(N):\n",
    "        ind[i, y[i]] = 1\n",
    "    return ind\n",
    "    "
   ]
  },
  {
   "cell_type": "code",
   "execution_count": 27,
   "id": "ab3ce58a",
   "metadata": {},
   "outputs": [],
   "source": [
    "Xtrain, Ytrain, Xtest, Ytest = get_data()"
   ]
  },
  {
   "cell_type": "code",
   "execution_count": 28,
   "id": "f381af01",
   "metadata": {},
   "outputs": [],
   "source": [
    "D = Xtrain.shape[1]\n",
    "K = len(set(Ytrain) | set(Ytest))"
   ]
  },
  {
   "cell_type": "code",
   "execution_count": 31,
   "id": "4eb64af6",
   "metadata": {},
   "outputs": [],
   "source": [
    "# convert targets to indicator\n",
    "Ytrain_ind = y2indicator(Ytrain, K)\n",
    "Ytest_ind = y2indicator(Ytest, K)"
   ]
  },
  {
   "cell_type": "code",
   "execution_count": 32,
   "id": "33b81ac5",
   "metadata": {},
   "outputs": [],
   "source": [
    "# randomly initialize weights\n",
    "W = np.random.randn(D, K)\n",
    "b = np.zeros(K)"
   ]
  },
  {
   "cell_type": "code",
   "execution_count": 33,
   "id": "4a9ac0c1",
   "metadata": {},
   "outputs": [],
   "source": [
    "def softmax(a):\n",
    "    expA = np.exp(a)\n",
    "    return expA / expA.sum(axis=1, keepdims=True)"
   ]
  },
  {
   "cell_type": "code",
   "execution_count": 34,
   "id": "03a54763",
   "metadata": {},
   "outputs": [],
   "source": [
    "def forward(X, W, b):\n",
    "    return softmax(X.dot(W) + b)"
   ]
  },
  {
   "cell_type": "code",
   "execution_count": 35,
   "id": "97a79627",
   "metadata": {},
   "outputs": [],
   "source": [
    "def predict(P_Y_given_X):\n",
    "    return np.argmax(P_Y_given_X, axis=1)"
   ]
  },
  {
   "cell_type": "code",
   "execution_count": 36,
   "id": "4158e294",
   "metadata": {},
   "outputs": [],
   "source": [
    "def classification_rate(Y, P):\n",
    "    return np.mean(Y == P)"
   ]
  },
  {
   "cell_type": "code",
   "execution_count": 37,
   "id": "4b0eeff1",
   "metadata": {},
   "outputs": [],
   "source": [
    "def cross_entropy(Y, pY):\n",
    "    return - np.mean(Y * np.log(pY))"
   ]
  },
  {
   "cell_type": "code",
   "execution_count": 38,
   "id": "77b7088f",
   "metadata": {},
   "outputs": [
    {
     "name": "stdout",
     "output_type": "stream",
     "text": [
      "0 0.7082765458268294 0.7794234023918832\n",
      "1000 0.08452148743517647 0.10562470006278693\n",
      "2000 0.08023034858210146 0.10240786942008033\n",
      "3000 0.07867428469608534 0.1015704820754228\n",
      "4000 0.07790906073905149 0.10130441784404434\n",
      "5000 0.07747011267543537 0.10122901257302054\n",
      "6000 0.07719354757450166 0.10122761017190054\n",
      "7000 0.07700793687806591 0.10125648371347275\n",
      "8000 0.07687758304939289 0.10129719898323306\n",
      "9000 0.0767828417541408 0.10134144216997011\n"
     ]
    }
   ],
   "source": [
    "train_costs = []\n",
    "test_costs = []\n",
    "learning_rate = 0.001\n",
    "for i in range(10_000):\n",
    "    pYtrain = forward(Xtrain, W, b)\n",
    "    pYtest = forward(Xtest, W, b)\n",
    "    \n",
    "    ctrain = cross_entropy(Ytrain_ind, pYtrain)\n",
    "    ctest = cross_entropy(Ytest_ind, pYtest)\n",
    "    \n",
    "    train_costs.append(ctrain)\n",
    "    test_costs.append(ctest)\n",
    "    \n",
    "    #gradient descent\n",
    "    W -= learning_rate * Xtrain.T.dot(pYtrain - Ytrain_ind)\n",
    "    b -= learning_rate * (pYtrain - Ytrain_ind).sum(axis=0)\n",
    "    \n",
    "    if i%1000 == 0:\n",
    "        print(i, ctrain, ctest)"
   ]
  },
  {
   "cell_type": "code",
   "execution_count": 39,
   "id": "3f0d257b",
   "metadata": {},
   "outputs": [
    {
     "name": "stdout",
     "output_type": "stream",
     "text": [
      "Final train classification rate: 0.9225\n",
      "Final test classification rate: 0.92\n"
     ]
    }
   ],
   "source": [
    "acc_train = classification_rate(Ytrain, predict(pYtrain))\n",
    "print(\"Final train classification rate:\", acc_train)\n",
    "acc_test = classification_rate(Ytest, predict(pYtest))\n",
    "print(\"Final test classification rate:\", acc_test)"
   ]
  },
  {
   "cell_type": "code",
   "execution_count": 40,
   "id": "147da4a8",
   "metadata": {},
   "outputs": [
    {
     "data": {
      "image/png": "[encoded data removed]",
      "text/plain": [
       "<Figure size 640x480 with 1 Axes>"
      ]
     },
     "metadata": {},
     "output_type": "display_data"
    }
   ],
   "source": [
    "plt.plot(train_costs, label='train cost')\n",
    "plt.plot(test_costs, label=\"test cost\")\n",
    "plt.legend();"
   ]
  },
  {
   "cell_type": "markdown",
   "id": "4f8aa795",
   "metadata": {},
   "source": [
    "### training the neural network model"
   ]
  },
  {
   "cell_type": "code",
   "execution_count": 41,
   "id": "298a26b1",
   "metadata": {},
   "outputs": [],
   "source": [
    "# function to one-hot encode the targets\n",
    "def y2indicator(y, K):\n",
    "    N = len(y)\n",
    "    ind = np.zeros((N, K))\n",
    "    for i in range(N):\n",
    "        ind[i, y[i]] = 1\n",
    "    return ind"
   ]
  },
  {
   "cell_type": "code",
   "execution_count": 42,
   "id": "7db98913",
   "metadata": {},
   "outputs": [],
   "source": [
    "Xtrain, Ytrain, Xtest, Ytest = get_data()"
   ]
  },
  {
   "cell_type": "code",
   "execution_count": 43,
   "id": "ab15a038",
   "metadata": {},
   "outputs": [],
   "source": [
    "D = Xtrain.shape[1]\n",
    "K = len(set(Ytrain) | set(Ytest))\n",
    "M = 5"
   ]
  },
  {
   "cell_type": "code",
   "execution_count": 44,
   "id": "b5ce907c",
   "metadata": {},
   "outputs": [],
   "source": [
    "Ytrain_ind = y2indicator(Ytrain, K)\n",
    "Ytest_ind = y2indicator(Ytest, K)"
   ]
  },
  {
   "cell_type": "code",
   "execution_count": 45,
   "id": "50b4bb84",
   "metadata": {},
   "outputs": [],
   "source": [
    "# randomly initialize weights\n",
    "W1 = np.random.randn(D, M)\n",
    "b1 = np.zeros(M)\n",
    "W2 = np.random.randn(M, K)\n",
    "b2 = np.zeros(K)"
   ]
  },
  {
   "cell_type": "code",
   "execution_count": 46,
   "id": "22cd8aca",
   "metadata": {},
   "outputs": [],
   "source": [
    "def softmax(a):\n",
    "    expA = np.exp(a)\n",
    "    return expA / expA.sum(axis=1, keepdims=True)"
   ]
  },
  {
   "cell_type": "code",
   "execution_count": 47,
   "id": "7bd00369",
   "metadata": {},
   "outputs": [],
   "source": [
    "def forward(X, W1, b1, W2, b2):\n",
    "    Z = np.tanh(X.dot(W1) + b1)\n",
    "    return softmax(Z.dot(W2) + b2), Z"
   ]
  },
  {
   "cell_type": "code",
   "execution_count": 48,
   "id": "466fba42",
   "metadata": {},
   "outputs": [],
   "source": [
    "def predict(P_Y_given_X):\n",
    "    return np.argmax(P_Y_given_X, axis=1)"
   ]
  },
  {
   "cell_type": "code",
   "execution_count": 49,
   "id": "ada9ca27",
   "metadata": {},
   "outputs": [],
   "source": [
    "def classification_rate(Y, P):\n",
    "    return np.mean(Y == P)"
   ]
  },
  {
   "cell_type": "code",
   "execution_count": 50,
   "id": "edb68de1",
   "metadata": {},
   "outputs": [],
   "source": [
    "def cross_entropy(Y, pY):\n",
    "    return -np.mean(Y * np.log(pY))"
   ]
  },
  {
   "cell_type": "code",
   "execution_count": 51,
   "id": "fe1b111d",
   "metadata": {},
   "outputs": [
    {
     "name": "stdout",
     "output_type": "stream",
     "text": [
      "0 0.5501570366840483 0.6196313463579627\n",
      "1000 0.03389628357939252 0.040325076998795645\n",
      "2000 0.025324760770320167 0.034668877603796826\n",
      "3000 0.021773100269185424 0.0332857783624346\n",
      "4000 0.019658506670341466 0.03321761515866191\n",
      "5000 0.018236102634793472 0.03368329171950612\n",
      "6000 0.01715540097372549 0.034040313100841\n",
      "7000 0.016229991628572936 0.034024383753731346\n",
      "8000 0.015354698458848418 0.033476536916901806\n",
      "9000 0.01451012258148316 0.03247912130709604\n"
     ]
    }
   ],
   "source": [
    "# training loop\n",
    "train_costs = []\n",
    "test_costs = []\n",
    "learning_rate = 0.001\n",
    "for i in range(10_000):\n",
    "    pYtrain, Ztrain = forward(Xtrain, W1, b1, W2, b2)\n",
    "    pYtest, Ztest = forward(Xtest, W1, b1, W2, b2)\n",
    "    \n",
    "    ctrain = cross_entropy(Ytrain_ind, pYtrain)\n",
    "    ctest = cross_entropy(Ytest_ind, pYtest)\n",
    "    \n",
    "    train_costs.append(ctrain)\n",
    "    test_costs.append(ctest)\n",
    "    \n",
    "    # gradient descent\n",
    "    gW2 = Ztrain.T.dot(pYtrain - Ytrain_ind)\n",
    "    gb2 = (pYtrain - Ytrain_ind).sum(axis=0)\n",
    "    dZ = (pYtrain - Ytrain_ind).dot(W2.T) * (1 - Ztrain * Ztrain)\n",
    "    gW1 = Xtrain.T.dot(dZ)\n",
    "    gb1 = dZ.sum(axis=0)\n",
    "    \n",
    "    W2 -= learning_rate * gW2\n",
    "    b2 -= learning_rate * gb2\n",
    "    W1 -= learning_rate * gW1\n",
    "    b1 -= learning_rate * gb1\n",
    "    \n",
    "    if i%1000 == 0:\n",
    "        print(i, ctrain, ctest)"
   ]
  },
  {
   "cell_type": "code",
   "execution_count": 52,
   "id": "73d4b884",
   "metadata": {},
   "outputs": [
    {
     "name": "stdout",
     "output_type": "stream",
     "text": [
      "Final train classification rate: 0.975\n",
      "Final test classification rate: 0.94\n"
     ]
    }
   ],
   "source": [
    "pYtrain, _ = forward(Xtrain, W1, b1, W2, b2)\n",
    "pYtest, _ = forward(Xtest, W1, b1, W2, b2)\n",
    "\n",
    "acc_train = classification_rate(Ytrain, predict(pYtrain))\n",
    "print(\"Final train classification rate:\", acc_train)\n",
    "acc_test = classification_rate(Ytest, predict(pYtest))\n",
    "print(\"Final test classification rate:\", acc_test)"
   ]
  },
  {
   "cell_type": "code",
   "execution_count": 53,
   "id": "58ec97f7",
   "metadata": {},
   "outputs": [
    {
     "data": {
      "image/png": "[encoded data removed]",
      "text/plain": [
       "<Figure size 640x480 with 1 Axes>"
      ]
     },
     "metadata": {},
     "output_type": "display_data"
    }
   ],
   "source": [
    "plt.plot(train_costs, label='train cost')\n",
    "plt.plot(test_costs, label=\"test cost\")\n",
    "plt.legend();"
   ]
  },
  {
   "cell_type": "code",
   "execution_count": null,
   "id": "44c2a695",
   "metadata": {},
   "outputs": [],
   "source": []
  }
 ],
 "metadata": {
  "kernelspec": {
   "display_name": "Python 3 (ipykernel)",
   "language": "python",
   "name": "python3"
  },
  "language_info": {
   "codemirror_mode": {
    "name": "ipython",
    "version": 3
   },
   "file_extension": ".py",
   "mimetype": "text/x-python",
   "name": "python",
   "nbconvert_exporter": "python",
   "pygments_lexer": "ipython3",
   "version": "3.9.13"
  }
 },
 "nbformat": 4,
 "nbformat_minor": 5
}
