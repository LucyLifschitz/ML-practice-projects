{
 "cells": [
  {
   "cell_type": "code",
   "execution_count": 2,
   "id": "816f03b6",
   "metadata": {},
   "outputs": [],
   "source": [
    "import numpy as np\n",
    "import pandas as pd"
   ]
  },
  {
   "cell_type": "code",
   "execution_count": 4,
   "id": "8b6fc1cb",
   "metadata": {},
   "outputs": [
    {
     "data": {
      "text/html": [
       "<div>\n",
       "<style scoped>\n",
       "    .dataframe tbody tr th:only-of-type {\n",
       "        vertical-align: middle;\n",
       "    }\n",
       "\n",
       "    .dataframe tbody tr th {\n",
       "        vertical-align: top;\n",
       "    }\n",
       "\n",
       "    .dataframe thead th {\n",
       "        text-align: right;\n",
       "    }\n",
       "</style>\n",
       "<table border=\"1\" class=\"dataframe\">\n",
       "  <thead>\n",
       "    <tr style=\"text-align: right;\">\n",
       "      <th></th>\n",
       "      <th>is_mobile</th>\n",
       "      <th>n_products_viewed</th>\n",
       "      <th>visit_duration</th>\n",
       "      <th>is_returning_visitor</th>\n",
       "      <th>time_of_day</th>\n",
       "      <th>user_action</th>\n",
       "    </tr>\n",
       "  </thead>\n",
       "  <tbody>\n",
       "    <tr>\n",
       "      <th>0</th>\n",
       "      <td>1</td>\n",
       "      <td>0</td>\n",
       "      <td>0.657510</td>\n",
       "      <td>0</td>\n",
       "      <td>3</td>\n",
       "      <td>0</td>\n",
       "    </tr>\n",
       "    <tr>\n",
       "      <th>1</th>\n",
       "      <td>1</td>\n",
       "      <td>1</td>\n",
       "      <td>0.568571</td>\n",
       "      <td>0</td>\n",
       "      <td>2</td>\n",
       "      <td>1</td>\n",
       "    </tr>\n",
       "    <tr>\n",
       "      <th>2</th>\n",
       "      <td>1</td>\n",
       "      <td>0</td>\n",
       "      <td>0.042246</td>\n",
       "      <td>1</td>\n",
       "      <td>1</td>\n",
       "      <td>0</td>\n",
       "    </tr>\n",
       "    <tr>\n",
       "      <th>3</th>\n",
       "      <td>1</td>\n",
       "      <td>1</td>\n",
       "      <td>1.659793</td>\n",
       "      <td>1</td>\n",
       "      <td>1</td>\n",
       "      <td>2</td>\n",
       "    </tr>\n",
       "    <tr>\n",
       "      <th>4</th>\n",
       "      <td>0</td>\n",
       "      <td>1</td>\n",
       "      <td>2.014745</td>\n",
       "      <td>1</td>\n",
       "      <td>1</td>\n",
       "      <td>2</td>\n",
       "    </tr>\n",
       "  </tbody>\n",
       "</table>\n",
       "</div>"
      ],
      "text/plain": [
       "   is_mobile  n_products_viewed  visit_duration  is_returning_visitor  \\\n",
       "0          1                  0        0.657510                     0   \n",
       "1          1                  1        0.568571                     0   \n",
       "2          1                  0        0.042246                     1   \n",
       "3          1                  1        1.659793                     1   \n",
       "4          0                  1        2.014745                     1   \n",
       "\n",
       "   time_of_day  user_action  \n",
       "0            3            0  \n",
       "1            2            1  \n",
       "2            1            0  \n",
       "3            1            2  \n",
       "4            1            2  "
      ]
     },
     "execution_count": 4,
     "metadata": {},
     "output_type": "execute_result"
    }
   ],
   "source": [
    "# get data\n",
    "\n",
    "df = pd.read_csv(\"ecommerce_data.csv\")\n",
    "df.head()"
   ]
  },
  {
   "cell_type": "code",
   "execution_count": 5,
   "id": "eb858b4e",
   "metadata": {},
   "outputs": [
    {
     "data": {
      "image/png": "[encoded data removed]",
      "text/plain": [
       "<Figure size 640x480 with 1 Axes>"
      ]
     },
     "metadata": {},
     "output_type": "display_data"
    }
   ],
   "source": [
    "df[\"time_of_day\"].hist();"
   ]
  },
  {
   "cell_type": "code",
   "execution_count": 6,
   "id": "1398e8d8",
   "metadata": {},
   "outputs": [],
   "source": [
    "def get_data():\n",
    "    df = pd.read_csv(\"ecommerce_data.csv\")\n",
    "    # easier to work with numpy array\n",
    "    data = df.to_numpy()\n",
    "    # shuffle data\n",
    "    np.random.shuffle(data)\n",
    "    # split features and labels\n",
    "    X = data[:, :-1]\n",
    "    y = data[:, -1].astype(np.int32)\n",
    "    \n",
    "    # encode categorical data\n",
    "    N, D = X.shape\n",
    "    X2 = np.zeros((N, D+3))\n",
    "    # non-categorical columns\n",
    "    X2[:, :(D-1)] = X[:, :(D-1)] \n",
    "    # hot-encode time of day categorical column\n",
    "    for n in range(N):\n",
    "        t = int(X[n, D-1])\n",
    "        X2[n, t+D-1] = 1\n",
    "        \n",
    "    X = X2\n",
    "    #split train and test sets\n",
    "    Xtrain = X[:-100]\n",
    "    ytrain = y[:-100]\n",
    "    Xtest = X[-100:]\n",
    "    ytest = y[-100:]\n",
    "    \n",
    "    # normalize columns 1 and 2\n",
    "    for i in (1,2):\n",
    "        m = Xtrain[:, i].mean()\n",
    "        s = Xtrain[:, i].std()\n",
    "        Xtrain[:, i] = (Xtrain[:, i] - m)/s\n",
    "        Xtest[:, i] = (Xtest[:, i] - m)/s\n",
    "        \n",
    "    return Xtrain, ytrain, Xtest, ytest\n",
    "    "
   ]
  },
  {
   "cell_type": "code",
   "execution_count": 7,
   "id": "8ebd6a25",
   "metadata": {},
   "outputs": [],
   "source": [
    "Xtrain, ytrain, Xtest, ytest = get_data()"
   ]
  },
  {
   "cell_type": "code",
   "execution_count": 8,
   "id": "20f354ee",
   "metadata": {},
   "outputs": [
    {
     "data": {
      "text/plain": [
       "((400, 8), (400,), (100, 8), (100,))"
      ]
     },
     "execution_count": 8,
     "metadata": {},
     "output_type": "execute_result"
    }
   ],
   "source": [
    "Xtrain.shape, ytrain.shape, Xtest.shape, ytest.shape"
   ]
  },
  {
   "cell_type": "code",
   "execution_count": 9,
   "id": "a5f9646c",
   "metadata": {},
   "outputs": [],
   "source": [
    "def get_binary_data():\n",
    "    Xtrain, ytrain, Xtest, ytest = get_data()\n",
    "    X2train = Xtrain[ytrain <= 1]\n",
    "    y2train = ytrain[ytrain <= 1]\n",
    "    X2test = Xtest[ytest <= 1]\n",
    "    y2test = ytest[ytest <= 1]\n",
    "    \n",
    "    return X2train, y2train, X2test, y2test"
   ]
  },
  {
   "cell_type": "code",
   "execution_count": 10,
   "id": "777bea53",
   "metadata": {},
   "outputs": [],
   "source": [
    "X2train, y2train, X2test, y2test = get_binary_data()"
   ]
  },
  {
   "cell_type": "code",
   "execution_count": 11,
   "id": "eee1242d",
   "metadata": {},
   "outputs": [
    {
     "data": {
      "text/plain": [
       "((313, 8), (313,), (85, 8), (85,))"
      ]
     },
     "execution_count": 11,
     "metadata": {},
     "output_type": "execute_result"
    }
   ],
   "source": [
    "X2train.shape, y2train.shape, X2test.shape, y2test.shape"
   ]
  },
  {
   "cell_type": "markdown",
   "id": "6eb45251",
   "metadata": {},
   "source": [
    "## Making predictions"
   ]
  },
  {
   "cell_type": "code",
   "execution_count": 12,
   "id": "3d53fa6d",
   "metadata": {},
   "outputs": [],
   "source": [
    "\n",
    "X, Y, _, _ = get_binary_data()"
   ]
  },
  {
   "cell_type": "code",
   "execution_count": 13,
   "id": "3bbd1704",
   "metadata": {},
   "outputs": [],
   "source": [
    "# randomly initialize weights\n",
    "D = X.shape[1]\n",
    "W = np.random.randn(D)\n",
    "b = 0"
   ]
  },
  {
   "cell_type": "code",
   "execution_count": 14,
   "id": "3cd058ad",
   "metadata": {},
   "outputs": [],
   "source": [
    "# make predictions\n",
    "def sigmoid(a):\n",
    "    return 1 / (1 + np.exp(-a))"
   ]
  },
  {
   "cell_type": "code",
   "execution_count": 15,
   "id": "ae8ac2f4",
   "metadata": {},
   "outputs": [],
   "source": [
    "def forward(X, W, b):\n",
    "    return sigmoid(X.dot(W) + b)"
   ]
  },
  {
   "cell_type": "code",
   "execution_count": 16,
   "id": "dc0a7a96",
   "metadata": {},
   "outputs": [],
   "source": [
    "P_Y_given_X = forward(X, W, b)"
   ]
  },
  {
   "cell_type": "code",
   "execution_count": 17,
   "id": "c4e92618",
   "metadata": {},
   "outputs": [
    {
     "data": {
      "text/plain": [
       "(316,)"
      ]
     },
     "execution_count": 17,
     "metadata": {},
     "output_type": "execute_result"
    }
   ],
   "source": [
    "P_Y_given_X.shape"
   ]
  },
  {
   "cell_type": "code",
   "execution_count": 18,
   "id": "53cade4f",
   "metadata": {},
   "outputs": [],
   "source": [
    "predictions = np.round(P_Y_given_X)"
   ]
  },
  {
   "cell_type": "code",
   "execution_count": 19,
   "id": "4173ec28",
   "metadata": {},
   "outputs": [],
   "source": [
    "def classification_rate(Y, P):\n",
    "    return np.mean(Y == P)"
   ]
  },
  {
   "cell_type": "code",
   "execution_count": 20,
   "id": "72e2a014",
   "metadata": {},
   "outputs": [
    {
     "name": "stdout",
     "output_type": "stream",
     "text": [
      "Score: 0.7215189873417721\n"
     ]
    }
   ],
   "source": [
    "print(\"Score:\", classification_rate(Y, predictions))"
   ]
  },
  {
   "cell_type": "markdown",
   "id": "358ecac3",
   "metadata": {},
   "source": [
    "### Training the logistic model"
   ]
  },
  {
   "cell_type": "code",
   "execution_count": 21,
   "id": "9d8e4aec",
   "metadata": {},
   "outputs": [],
   "source": [
    "import matplotlib.pyplot as plt"
   ]
  },
  {
   "cell_type": "code",
   "execution_count": 22,
   "id": "73f7c9de",
   "metadata": {},
   "outputs": [],
   "source": [
    "Xtrain, ytrain, Xtest, ytest = get_binary_data()"
   ]
  },
  {
   "cell_type": "code",
   "execution_count": 30,
   "id": "b2909de2",
   "metadata": {},
   "outputs": [],
   "source": [
    "# randomly initialize weights\n",
    "D = Xtrain.shape[1]\n",
    "W = np.random.randn(D)\n",
    "b = 0"
   ]
  },
  {
   "cell_type": "code",
   "execution_count": 31,
   "id": "e3d41fe1",
   "metadata": {},
   "outputs": [],
   "source": [
    "\n",
    "# define cross-entropy loss function\n",
    "def cross_entropy(Y, pY):\n",
    "    return -np.mean(Y * np.log(pY) + (1 - Y) * np.log(1 - pY))"
   ]
  },
  {
   "cell_type": "code",
   "execution_count": 32,
   "id": "a03698e7",
   "metadata": {},
   "outputs": [
    {
     "name": "stdout",
     "output_type": "stream",
     "text": [
      "0 0.8412543726690472 0.9766075641696974\n",
      "1000 0.20587519850466315 0.11030576231453276\n",
      "2000 0.20507551140103966 0.10682810586913752\n",
      "3000 0.20504013511605051 0.10622759158181422\n",
      "4000 0.20503824984386027 0.10609424481626187\n",
      "5000 0.20503814540895327 0.10606311487230845\n",
      "6000 0.2050381395719383 0.10605576790684183\n",
      "7000 0.20503813924501413 0.10605402977706133\n",
      "8000 0.2050381392266942 0.1060536183558012\n",
      "9000 0.20503813922566755 0.10605352095962818\n"
     ]
    }
   ],
   "source": [
    "train_costs = []\n",
    "test_costs = []\n",
    "learning_rate = 0.001\n",
    "for i in range(10_000):\n",
    "    pYtrain = forward(Xtrain, W, b)\n",
    "    pYtest = forward(Xtest, W, b)\n",
    "    \n",
    "    ctrain = cross_entropy(ytrain, pYtrain)\n",
    "    ctest = cross_entropy(ytest, pYtest)\n",
    "    \n",
    "    train_costs.append(ctrain)\n",
    "    test_costs.append(ctest)\n",
    "    \n",
    "    W -= learning_rate * Xtrain.T.dot(pYtrain - ytrain)\n",
    "    b -= learning_rate * (pYtrain - ytrain).sum()\n",
    "    \n",
    "    if i%1000 == 0:\n",
    "        print(i, ctrain, ctest)"
   ]
  },
  {
   "cell_type": "code",
   "execution_count": 33,
   "id": "a55d7ff8",
   "metadata": {},
   "outputs": [
    {
     "name": "stdout",
     "output_type": "stream",
     "text": [
      "Final train classification rate: 0.9714285714285714\n",
      "Final test classification rate: 0.9879518072289156\n"
     ]
    }
   ],
   "source": [
    "acc_train = classification_rate(ytrain, np.round(pYtrain))\n",
    "print(\"Final train classification rate:\", acc_train)\n",
    "acc_test = classification_rate(ytest, np.round(pYtest))\n",
    "print(\"Final test classification rate:\", acc_test)"
   ]
  },
  {
   "cell_type": "code",
   "execution_count": 34,
   "id": "12f238b9",
   "metadata": {},
   "outputs": [
    {
     "data": {
      "image/png": "[encoded data removed]",
      "text/plain": [
       "<Figure size 640x480 with 1 Axes>"
      ]
     },
     "metadata": {},
     "output_type": "display_data"
    }
   ],
   "source": [
    "plt.plot(train_costs, label=\"train cost\")\n",
    "plt.plot(test_costs, label=\"test cost\")\n",
    "plt.legend();"
   ]
  },
  {
   "cell_type": "code",
   "execution_count": null,
   "id": "009ae1ba",
   "metadata": {},
   "outputs": [],
   "source": []
  }
 ],
 "metadata": {
  "kernelspec": {
   "display_name": "Python 3 (ipykernel)",
   "language": "python",
   "name": "python3"
  },
  "language_info": {
   "codemirror_mode": {
    "name": "ipython",
    "version": 3
   },
   "file_extension": ".py",
   "mimetype": "text/x-python",
   "name": "python",
   "nbconvert_exporter": "python",
   "pygments_lexer": "ipython3",
   "version": "3.9.13"
  }
 },
 "nbformat": 4,
 "nbformat_minor": 5
}
