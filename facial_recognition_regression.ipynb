{
 "cells": [
  {
   "cell_type": "markdown",
   "id": "d63ba8b6",
   "metadata": {},
   "source": [
    "## Facial Expression Recognition project with logistic regression.\n",
    "\n",
    "The project uses a Kaggle dataset from Challenges in Representation Learning: Facial Expression Recognition challenge. The dataset consists of facial images with labels of displayed emotions. In this project we build a model that tries to distinguish between \"Sad\" and \"Neutral\" images"
   ]
  },
  {
   "cell_type": "code",
   "execution_count": 28,
   "id": "4cde2af4",
   "metadata": {},
   "outputs": [],
   "source": [
    "import numpy as np\n",
    "import pandas as pd\n",
    "import matplotlib.pyplot as plt\n",
    "from sklearn.utils import shuffle"
   ]
  },
  {
   "cell_type": "code",
   "execution_count": 4,
   "id": "2dd0f0d6",
   "metadata": {},
   "outputs": [],
   "source": [
    "label_map = [\"Anger\", \"Disgust\", \"Fear\", \"Happy\", \"Sad\", \"Surprise\", \"Neutral\"]"
   ]
  },
  {
   "cell_type": "code",
   "execution_count": 15,
   "id": "f7e00fe8",
   "metadata": {},
   "outputs": [
    {
     "data": {
      "text/html": [
       "<div>\n",
       "<style scoped>\n",
       "    .dataframe tbody tr th:only-of-type {\n",
       "        vertical-align: middle;\n",
       "    }\n",
       "\n",
       "    .dataframe tbody tr th {\n",
       "        vertical-align: top;\n",
       "    }\n",
       "\n",
       "    .dataframe thead th {\n",
       "        text-align: right;\n",
       "    }\n",
       "</style>\n",
       "<table border=\"1\" class=\"dataframe\">\n",
       "  <thead>\n",
       "    <tr style=\"text-align: right;\">\n",
       "      <th></th>\n",
       "      <th>emotion</th>\n",
       "      <th>pixels</th>\n",
       "    </tr>\n",
       "  </thead>\n",
       "  <tbody>\n",
       "    <tr>\n",
       "      <th>0</th>\n",
       "      <td>0</td>\n",
       "      <td>70 80 82 72 58 58 60 63 54 58 60 48 89 115 121...</td>\n",
       "    </tr>\n",
       "    <tr>\n",
       "      <th>1</th>\n",
       "      <td>0</td>\n",
       "      <td>151 150 147 155 148 133 111 140 170 174 182 15...</td>\n",
       "    </tr>\n",
       "    <tr>\n",
       "      <th>2</th>\n",
       "      <td>2</td>\n",
       "      <td>231 212 156 164 174 138 161 173 182 200 106 38...</td>\n",
       "    </tr>\n",
       "    <tr>\n",
       "      <th>3</th>\n",
       "      <td>4</td>\n",
       "      <td>24 32 36 30 32 23 19 20 30 41 21 22 32 34 21 1...</td>\n",
       "    </tr>\n",
       "    <tr>\n",
       "      <th>4</th>\n",
       "      <td>6</td>\n",
       "      <td>4 0 0 0 0 0 0 0 0 0 0 0 3 15 23 28 48 50 58 84...</td>\n",
       "    </tr>\n",
       "  </tbody>\n",
       "</table>\n",
       "</div>"
      ],
      "text/plain": [
       "   emotion                                             pixels\n",
       "0        0  70 80 82 72 58 58 60 63 54 58 60 48 89 115 121...\n",
       "1        0  151 150 147 155 148 133 111 140 170 174 182 15...\n",
       "2        2  231 212 156 164 174 138 161 173 182 200 106 38...\n",
       "3        4  24 32 36 30 32 23 19 20 30 41 21 22 32 34 21 1...\n",
       "4        6  4 0 0 0 0 0 0 0 0 0 0 0 3 15 23 28 48 50 58 84..."
      ]
     },
     "execution_count": 15,
     "metadata": {},
     "output_type": "execute_result"
    }
   ],
   "source": [
    "df = pd.read_csv(\"facial_recognition.csv\")\n",
    "df.head()"
   ]
  },
  {
   "cell_type": "code",
   "execution_count": 26,
   "id": "f9614d23",
   "metadata": {},
   "outputs": [
    {
     "data": {
      "image/png": "[encoded data removed]",
      "text/plain": [
       "<Figure size 640x480 with 1 Axes>"
      ]
     },
     "metadata": {},
     "output_type": "display_data"
    }
   ],
   "source": [
    "df[\"emotion\"].hist(bins=np.linspace(-0.5,6.5,8))\n",
    "plt.xticks(ticks=range(7), labels=label_map);"
   ]
  },
  {
   "cell_type": "markdown",
   "id": "f53fa7d3",
   "metadata": {},
   "source": [
    "### We will take sad and neutral images (since there is about the same number of images in these categories) and will use logistic regression to try to distinguish these two categories.\n"
   ]
  },
  {
   "cell_type": "code",
   "execution_count": 44,
   "id": "f0bdf319",
   "metadata": {},
   "outputs": [],
   "source": [
    "# we define some utility functions\n",
    "def getBinaryData():\n",
    "    Y = []\n",
    "    X = []\n",
    "    first = True\n",
    "    for line in open('facial_recognition.csv'):\n",
    "        if first:\n",
    "            first = False\n",
    "        else:\n",
    "            row = line.split(',')\n",
    "            y = int(row[0])\n",
    "            if y == 4 or y == 6:\n",
    "                if y == 4:\n",
    "                    Y.append(0)\n",
    "                elif y == 6:\n",
    "                    Y.append(1)\n",
    "                X.append([int(p) for p in row[1][1:-2].split()])\n",
    "    return np.array(X) / 255.0, np.array(Y)\n",
    "\n",
    "def sigmoid(A):\n",
    "    return 1 / (1 + np.exp(-A))\n",
    "\n",
    "def sigmoid_cost(T, Y):\n",
    "    return -(T*np.log(Y) + (1-T)*np.log(1-Y)).sum()\n",
    "\n",
    "def error_rate(targets, predictions):\n",
    "    return np.mean(targets != predictions)"
   ]
  },
  {
   "cell_type": "code",
   "execution_count": 47,
   "id": "5a4b0090",
   "metadata": {},
   "outputs": [
    {
     "name": "stdout",
     "output_type": "stream",
     "text": [
      "i: 0 cost: 698.1551106303416 error 0.51\n",
      "i: 20 cost: 687.7420793833455 error 0.445\n",
      "i: 40 cost: 682.653604905075 error 0.433\n",
      "i: 60 cost: 679.4553903286355 error 0.431\n",
      "i: 80 cost: 677.1419533647994 error 0.431\n",
      "i: 100 cost: 675.3477762787944 error 0.422\n",
      "i: 120 cost: 673.9067267457797 error 0.417\n",
      "i: 140 cost: 672.7254893060644 error 0.411\n",
      "i: 160 cost: 671.7433202965055 error 0.407\n",
      "i: 180 cost: 670.9171718201409 error 0.406\n",
      "i: 200 cost: 670.2150875242914 error 0.406\n",
      "i: 220 cost: 669.6127073567031 error 0.403\n",
      "i: 240 cost: 669.0911507263048 error 0.402\n",
      "i: 260 cost: 668.6356146497542 error 0.396\n",
      "i: 280 cost: 668.2343918161748 error 0.393\n",
      "i: 300 cost: 667.8781577957249 error 0.39\n",
      "i: 320 cost: 667.5594411875668 error 0.386\n",
      "i: 340 cost: 667.2722231362736 error 0.387\n",
      "i: 360 cost: 667.011630877193 error 0.387\n",
      "i: 380 cost: 666.7737009825553 error 0.385\n",
      "i: 400 cost: 666.5551950367436 error 0.386\n",
      "i: 420 cost: 666.353455198417 error 0.387\n",
      "i: 440 cost: 666.1662903852907 error 0.39\n",
      "i: 460 cost: 665.9918861481038 error 0.389\n",
      "i: 480 cost: 665.8287329897703 error 0.389\n",
      "i: 500 cost: 665.6755691288072 error 0.386\n",
      "i: 520 cost: 665.5313346317694 error 0.385\n",
      "i: 540 cost: 665.395134535408 error 0.388\n",
      "i: 560 cost: 665.2662091069789 error 0.387\n",
      "i: 580 cost: 665.1439097941286 error 0.385\n",
      "i: 600 cost: 665.0276797255842 error 0.384\n",
      "i: 620 cost: 664.917037863414 error 0.385\n",
      "i: 640 cost: 664.811566093876 error 0.385\n",
      "i: 660 cost: 664.7108986894057 error 0.384\n",
      "i: 680 cost: 664.6147136885497 error 0.382\n",
      "i: 700 cost: 664.522725830759 error 0.381\n",
      "i: 720 cost: 664.4346807542765 error 0.383\n",
      "i: 740 cost: 664.3503502220541 error 0.383\n",
      "i: 760 cost: 664.2695281858364 error 0.381\n",
      "i: 780 cost: 664.1920275347211 error 0.381\n",
      "i: 800 cost: 664.117677403529 error 0.384\n",
      "i: 820 cost: 664.0463209396706 error 0.385\n",
      "i: 840 cost: 663.9778134460305 error 0.384\n",
      "i: 860 cost: 663.9120208326274 error 0.383\n",
      "i: 880 cost: 663.8488183221398 error 0.383\n",
      "i: 900 cost: 663.7880893644112 error 0.385\n",
      "i: 920 cost: 663.7297247231916 error 0.384\n",
      "i: 940 cost: 663.6736217050039 error 0.385\n",
      "i: 960 cost: 663.6196835054484 error 0.385\n",
      "i: 980 cost: 663.5678186526612 error 0.387\n",
      "i: 1000 cost: 663.5179405312781 error 0.384\n",
      "i: 1020 cost: 663.469966973199 error 0.385\n",
      "i: 1040 cost: 663.4238199038838 error 0.384\n",
      "i: 1060 cost: 663.3794250348984 error 0.385\n",
      "i: 1080 cost: 663.33671159506 error 0.384\n",
      "i: 1100 cost: 663.2956120938777 error 0.384\n",
      "i: 1120 cost: 663.2560621120831 error 0.386\n",
      "i: 1140 cost: 663.2180001149572 error 0.384\n",
      "i: 1160 cost: 663.1813672849022 error 0.384\n",
      "i: 1180 cost: 663.1461073703256 error 0.384\n",
      "best_validation_error 0.381\n"
     ]
    },
    {
     "data": {
      "image/png": "[encoded data removed]",
      "text/plain": [
       "<Figure size 640x480 with 1 Axes>"
      ]
     },
     "metadata": {},
     "output_type": "display_data"
    }
   ],
   "source": [
    "class LogisticModel(object):\n",
    "    def __init__(self):\n",
    "        pass\n",
    "    \n",
    "    def fit(self, X, Y, learning_rate=10e-7, reg=0, epochs=1200, show_fig=False):\n",
    "        X, Y = shuffle(X, Y)\n",
    "        Xvalid, Yvalid = X[-1000:], Y[-1000:]\n",
    "        X, Y = X[:-1000], Y[:-1000]\n",
    "        \n",
    "        N, D = X.shape\n",
    "        self.W = np.random.randn(D)/ np.sqrt(D)\n",
    "        self.b = 0\n",
    "        \n",
    "        costs = []\n",
    "        best_validation_error = 1\n",
    "        \n",
    "        for i in range(epochs):\n",
    "            pY = self.forward(X)\n",
    "            \n",
    "            #gradient descent\n",
    "            self.W -= learning_rate * (X.T.dot(pY-Y) + reg * self.W)\n",
    "            self.b -= learning_rate * ((pY-Y).sum() + reg * self.b)\n",
    "            \n",
    "            if i%20 == 0:\n",
    "                pYvalid = self.forward(Xvalid)\n",
    "                c = sigmoid_cost(Yvalid, pYvalid)\n",
    "                costs.append(c)\n",
    "                e = error_rate(Yvalid, np.round(pYvalid))\n",
    "                \n",
    "                print(\"i:\", i, \"cost:\", c, \"error\", e)\n",
    "                \n",
    "                if e < best_validation_error:\n",
    "                    best_validation_error = e\n",
    "                    \n",
    "        print(\"best_validation_error\", best_validation_error)\n",
    "        \n",
    "        if show_fig:\n",
    "            plt.plot(costs)\n",
    "            plt.show()\n",
    "            \n",
    "            \n",
    "    def forward(self, X):\n",
    "        return sigmoid(X.dot(self.W) + self.b)\n",
    "    \n",
    "    def predict(self, X):\n",
    "        pY = self.forward(X)\n",
    "        return np.round(pY)\n",
    "    \n",
    "    def score(self, X, Y):\n",
    "        prediction = self.predict(X)\n",
    "        return 1 - error_rate(Y, prediction)\n",
    "    \n",
    "    \n",
    "def main():\n",
    "    X, Y = getBinaryData()\n",
    "    \n",
    "    model = LogisticModel()\n",
    "    model.fit(X, Y, show_fig=True)\n",
    "    model.score(X, Y)\n",
    "\n",
    "    \n",
    "main()"
   ]
  },
  {
   "cell_type": "code",
   "execution_count": null,
   "id": "734f8a11",
   "metadata": {},
   "outputs": [],
   "source": []
  }
 ],
 "metadata": {
  "kernelspec": {
   "display_name": "Python 3 (ipykernel)",
   "language": "python",
   "name": "python3"
  },
  "language_info": {
   "codemirror_mode": {
    "name": "ipython",
    "version": 3
   },
   "file_extension": ".py",
   "mimetype": "text/x-python",
   "name": "python",
   "nbconvert_exporter": "python",
   "pygments_lexer": "ipython3",
   "version": "3.9.13"
  }
 },
 "nbformat": 4,
 "nbformat_minor": 5
}
